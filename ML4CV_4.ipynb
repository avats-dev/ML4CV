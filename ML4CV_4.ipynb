{
  "nbformat": 4,
  "nbformat_minor": 0,
  "metadata": {
    "colab": {
      "name": "ML4CV_4.ipynb",
      "provenance": [],
      "authorship_tag": "ABX9TyPMEyZ7vfQ93K6NKe5rAKH3",
      "include_colab_link": true
    },
    "kernelspec": {
      "name": "python3",
      "display_name": "Python 3"
    }
  },
  "cells": [
    {
      "cell_type": "markdown",
      "metadata": {
        "id": "view-in-github",
        "colab_type": "text"
      },
      "source": [
        "<a href=\"https://colab.research.google.com/github/avats-dev/ML4CV/blob/main/ML4CV_4.ipynb\" target=\"_parent\"><img src=\"https://colab.research.google.com/assets/colab-badge.svg\" alt=\"Open In Colab\"/></a>"
      ]
    },
    {
      "cell_type": "code",
      "metadata": {
        "id": "m5cZqDNR84N1"
      },
      "source": [
        "import tensorflow as tf\r\n",
        "from tensorflow.keras import *\r\n",
        "\r\n",
        "import numpy as np\r\n",
        "from matplotlib import pyplot as plt"
      ],
      "execution_count": 1,
      "outputs": []
    },
    {
      "cell_type": "code",
      "metadata": {
        "colab": {
          "base_uri": "https://localhost:8080/",
          "height": 35
        },
        "id": "r7Q-MX0l9GZY",
        "outputId": "7e1a5867-4ed5-4b13-8098-8f82915f95cc"
      },
      "source": [
        "tf.__version__"
      ],
      "execution_count": 2,
      "outputs": [
        {
          "output_type": "execute_result",
          "data": {
            "application/vnd.google.colaboratory.intrinsic+json": {
              "type": "string"
            },
            "text/plain": [
              "'2.4.1'"
            ]
          },
          "metadata": {
            "tags": []
          },
          "execution_count": 2
        }
      ]
    },
    {
      "cell_type": "code",
      "metadata": {
        "colab": {
          "base_uri": "https://localhost:8080/"
        },
        "id": "FxVfLefd9OV2",
        "outputId": "5e8c2395-e537-461a-9e69-34c674307d4b"
      },
      "source": [
        "fashion_mnist = datasets.fashion_mnist\r\n",
        "(train_images,  train_labels), (test_images, test_labels) = fashion_mnist.load_data()"
      ],
      "execution_count": 3,
      "outputs": [
        {
          "output_type": "stream",
          "text": [
            "Downloading data from https://storage.googleapis.com/tensorflow/tf-keras-datasets/train-labels-idx1-ubyte.gz\n",
            "32768/29515 [=================================] - 0s 0us/step\n",
            "Downloading data from https://storage.googleapis.com/tensorflow/tf-keras-datasets/train-images-idx3-ubyte.gz\n",
            "26427392/26421880 [==============================] - 0s 0us/step\n",
            "Downloading data from https://storage.googleapis.com/tensorflow/tf-keras-datasets/t10k-labels-idx1-ubyte.gz\n",
            "8192/5148 [===============================================] - 0s 0us/step\n",
            "Downloading data from https://storage.googleapis.com/tensorflow/tf-keras-datasets/t10k-images-idx3-ubyte.gz\n",
            "4423680/4422102 [==============================] - 0s 0us/step\n"
          ],
          "name": "stdout"
        }
      ]
    },
    {
      "cell_type": "code",
      "metadata": {
        "colab": {
          "base_uri": "https://localhost:8080/"
        },
        "id": "FDhEvnFg9upp",
        "outputId": "440be20f-13a2-461b-d41e-bf5c5bf0d8b7"
      },
      "source": [
        "class_names = ['T-shirt/top', 'Trouser', 'Pullover', 'Dress', 'Coat',\r\n",
        "               'Sandal', 'Shirt', 'Sneaker', 'Bag', 'Ankle Boot']\r\n",
        "train_images.shape"
      ],
      "execution_count": 4,
      "outputs": [
        {
          "output_type": "execute_result",
          "data": {
            "text/plain": [
              "(60000, 28, 28)"
            ]
          },
          "metadata": {
            "tags": []
          },
          "execution_count": 4
        }
      ]
    },
    {
      "cell_type": "code",
      "metadata": {
        "colab": {
          "base_uri": "https://localhost:8080/",
          "height": 282
        },
        "id": "mnkMTK1E-wD5",
        "outputId": "b70c8fac-bcb5-49fb-aa4a-bd4fc09fe07a"
      },
      "source": [
        "plt.imshow(train_images[720])"
      ],
      "execution_count": 7,
      "outputs": [
        {
          "output_type": "execute_result",
          "data": {
            "text/plain": [
              "<matplotlib.image.AxesImage at 0x7f7dab4582e8>"
            ]
          },
          "metadata": {
            "tags": []
          },
          "execution_count": 7
        },
        {
          "output_type": "display_data",
          "data": {
            "image/png": "[encoded data removed]",
            "text/plain": [
              "<Figure size 432x288 with 1 Axes>"
            ]
          },
          "metadata": {
            "tags": [],
            "needs_background": "light"
          }
        }
      ]
    },
    {
      "cell_type": "code",
      "metadata": {
        "id": "NA5uFXL9H2ii"
      },
      "source": [
        "def cus_loss(y_true, y_pred):\r\n",
        "  y_pred = tf.convert_to_tensor(y_pred)\r\n",
        "  y_true = tf.cast(y_true, y_pred.dtype)\r\n",
        "  l_1 = tf.reduce_mean(tf.abs(y_pred - y_true))\r\n",
        "  return l_1"
      ],
      "execution_count": 67,
      "outputs": []
    },
    {
      "cell_type": "code",
      "metadata": {
        "id": "6AEXhHeW-39Y"
      },
      "source": [
        "#from tensorflow.keras import layers\r\n",
        "model = Sequential()\r\n",
        "model.add(layers.Flatten(input_shape = (28,28)))"
      ],
      "execution_count": 77,
      "outputs": []
    },
    {
      "cell_type": "code",
      "metadata": {
        "id": "SiHqXJhS_r5V"
      },
      "source": [
        "model.add(layers.Dense(128, activation='relu', use_bias=True,\r\n",
        "                       kernel_initializer = 'glorot_uniform'\r\n",
        "                       ))\r\n",
        "model.add(layers.Dropout(0.2))\r\n",
        "model.add(layers.Dense(256, activation='relu', use_bias=True))\r\n",
        "model.add(layers.Dropout(0.2))\r\n",
        "model.add(layers.Dense(512, activation='relu', use_bias=True))\r\n",
        "model.add(layers.Dropout(0.2))\r\n",
        "model.add(layers.Dense(256, activation='relu', use_bias=True))\r\n",
        "model.add(layers.Dropout(0.2))\r\n",
        "model.add(layers.Dense(10, activation='softmax'))"
      ],
      "execution_count": 78,
      "outputs": []
    },
    {
      "cell_type": "code",
      "metadata": {
        "colab": {
          "base_uri": "https://localhost:8080/"
        },
        "id": "oqkm9HLgA25A",
        "outputId": "d18d7561-5f6a-4e88-d7a5-fbddfaf5eb22"
      },
      "source": [
        "model.summary()"
      ],
      "execution_count": 79,
      "outputs": [
        {
          "output_type": "stream",
          "text": [
            "Model: \"sequential_8\"\n",
            "_________________________________________________________________\n",
            "Layer (type)                 Output Shape              Param #   \n",
            "=================================================================\n",
            "flatten_8 (Flatten)          (None, 784)               0         \n",
            "_________________________________________________________________\n",
            "dense_34 (Dense)             (None, 128)               100480    \n",
            "_________________________________________________________________\n",
            "dropout_16 (Dropout)         (None, 128)               0         \n",
            "_________________________________________________________________\n",
            "dense_35 (Dense)             (None, 256)               33024     \n",
            "_________________________________________________________________\n",
            "dropout_17 (Dropout)         (None, 256)               0         \n",
            "_________________________________________________________________\n",
            "dense_36 (Dense)             (None, 512)               131584    \n",
            "_________________________________________________________________\n",
            "dropout_18 (Dropout)         (None, 512)               0         \n",
            "_________________________________________________________________\n",
            "dense_37 (Dense)             (None, 256)               131328    \n",
            "_________________________________________________________________\n",
            "dropout_19 (Dropout)         (None, 256)               0         \n",
            "_________________________________________________________________\n",
            "dense_38 (Dense)             (None, 10)                2570      \n",
            "=================================================================\n",
            "Total params: 398,986\n",
            "Trainable params: 398,986\n",
            "Non-trainable params: 0\n",
            "_________________________________________________________________\n"
          ],
          "name": "stdout"
        }
      ]
    },
    {
      "cell_type": "code",
      "metadata": {
        "id": "l_GR273EA5d6"
      },
      "source": [
        "\r\n",
        "model.compile(optimizer='SGD', loss='sparse_categorical_crossentropy', metrics=['accuracy',])"
      ],
      "execution_count": 83,
      "outputs": []
    },
    {
      "cell_type": "code",
      "metadata": {
        "colab": {
          "base_uri": "https://localhost:8080/"
        },
        "id": "7ElN2AWFDG7v",
        "outputId": "11fa46d4-2acb-4957-b514-e605ba7dd8f8"
      },
      "source": [
        "model.fit(train_images, train_labels, batch_size=32, epochs=10)"
      ],
      "execution_count": 84,
      "outputs": [
        {
          "output_type": "stream",
          "text": [
            "Epoch 1/10\n",
            "1875/1875 [==============================] - 11s 6ms/step - loss: 0.6566 - accuracy: 0.7662\n",
            "Epoch 2/10\n",
            "1875/1875 [==============================] - 11s 6ms/step - loss: 0.5860 - accuracy: 0.7797\n",
            "Epoch 3/10\n",
            "1875/1875 [==============================] - 11s 6ms/step - loss: 0.5681 - accuracy: 0.7829\n",
            "Epoch 4/10\n",
            "1875/1875 [==============================] - 11s 6ms/step - loss: 0.5792 - accuracy: 0.7662\n",
            "Epoch 5/10\n",
            "1875/1875 [==============================] - 11s 6ms/step - loss: 0.5889 - accuracy: 0.7474\n",
            "Epoch 6/10\n",
            "1875/1875 [==============================] - 11s 6ms/step - loss: 0.5872 - accuracy: 0.7604\n",
            "Epoch 7/10\n",
            "1875/1875 [==============================] - 11s 6ms/step - loss: 0.5955 - accuracy: 0.7488\n",
            "Epoch 8/10\n",
            "1875/1875 [==============================] - 11s 6ms/step - loss: 0.5806 - accuracy: 0.7502\n",
            "Epoch 9/10\n",
            "1875/1875 [==============================] - 11s 6ms/step - loss: 0.6101 - accuracy: 0.7423\n",
            "Epoch 10/10\n",
            "1875/1875 [==============================] - 11s 6ms/step - loss: 0.5722 - accuracy: 0.7559\n"
          ],
          "name": "stdout"
        },
        {
          "output_type": "execute_result",
          "data": {
            "text/plain": [
              "<tensorflow.python.keras.callbacks.History at 0x7f7d9b52aef0>"
            ]
          },
          "metadata": {
            "tags": []
          },
          "execution_count": 84
        }
      ]
    },
    {
      "cell_type": "code",
      "metadata": {
        "colab": {
          "base_uri": "https://localhost:8080/"
        },
        "id": "geCYifsYDa4L",
        "outputId": "26640b0c-b043-4271-8f1d-26c6c1d605b7"
      },
      "source": [
        "model.evaluate(test_images, test_labels)"
      ],
      "execution_count": 85,
      "outputs": [
        {
          "output_type": "stream",
          "text": [
            "313/313 [==============================] - 1s 2ms/step - loss: 0.5505 - accuracy: 0.7689\n"
          ],
          "name": "stdout"
        },
        {
          "output_type": "execute_result",
          "data": {
            "text/plain": [
              "[0.550504744052887, 0.7688999772071838]"
            ]
          },
          "metadata": {
            "tags": []
          },
          "execution_count": 85
        }
      ]
    },
    {
      "cell_type": "code",
      "metadata": {
        "id": "8qwqIH5tD4N8"
      },
      "source": [
        "from keras.models import Model\r\n",
        "from keras import Input\r\n",
        "layer1 = Input((28,28))\r\n",
        "flat1 = layers.Flatten()(layer1)\r\n",
        "dense1 = layers.Dense(128, activation = 'relu')(flat1)\r\n",
        "dense1 = layers.Dropout(0.2)(dense1)\r\n",
        "dense1 = layers.Dense(256, activation = 'relu')(dense1)\r\n",
        "dense1 = layers.Dropout(0.1)(dense1)\r\n",
        "dense1 = layers.Dense(512, activation = 'relu')(dense1)\r\n",
        "dense1 = layers.Dropout(0.1)(dense1)\r\n",
        "dense1 = layers.Dense(256, activation = 'relu')(dense1)\r\n",
        "dense1 = layers.Dropout(0.1)(dense1)\r\n",
        "dense1 = layers.Dense(128, activation = 'relu')(dense1)\r\n",
        "dense2 = layers.Dense(10, activation = 'softmax')(dense1)\r\n",
        "model = Model(inputs = layer1, outputs = dense2)"
      ],
      "execution_count": 127,
      "outputs": []
    },
    {
      "cell_type": "code",
      "metadata": {
        "colab": {
          "base_uri": "https://localhost:8080/"
        },
        "id": "DUz8wovML-Yk",
        "outputId": "9943a9a1-408c-47c2-8303-ac123d5a5902"
      },
      "source": [
        "model.summary()"
      ],
      "execution_count": 128,
      "outputs": [
        {
          "output_type": "stream",
          "text": [
            "Model: \"model_8\"\n",
            "_________________________________________________________________\n",
            "Layer (type)                 Output Shape              Param #   \n",
            "=================================================================\n",
            "input_14 (InputLayer)        [(None, 28, 28)]          0         \n",
            "_________________________________________________________________\n",
            "flatten_21 (Flatten)         (None, 784)               0         \n",
            "_________________________________________________________________\n",
            "dense_65 (Dense)             (None, 128)               100480    \n",
            "_________________________________________________________________\n",
            "dropout_26 (Dropout)         (None, 128)               0         \n",
            "_________________________________________________________________\n",
            "dense_66 (Dense)             (None, 256)               33024     \n",
            "_________________________________________________________________\n",
            "dropout_27 (Dropout)         (None, 256)               0         \n",
            "_________________________________________________________________\n",
            "dense_67 (Dense)             (None, 512)               131584    \n",
            "_________________________________________________________________\n",
            "dropout_28 (Dropout)         (None, 512)               0         \n",
            "_________________________________________________________________\n",
            "dense_68 (Dense)             (None, 256)               131328    \n",
            "_________________________________________________________________\n",
            "dropout_29 (Dropout)         (None, 256)               0         \n",
            "_________________________________________________________________\n",
            "dense_69 (Dense)             (None, 128)               32896     \n",
            "_________________________________________________________________\n",
            "dense_70 (Dense)             (None, 10)                1290      \n",
            "=================================================================\n",
            "Total params: 430,602\n",
            "Trainable params: 430,602\n",
            "Non-trainable params: 0\n",
            "_________________________________________________________________\n"
          ],
          "name": "stdout"
        }
      ]
    },
    {
      "cell_type": "code",
      "metadata": {
        "id": "HizFGbCfMGIt"
      },
      "source": [
        "model.compile(optimizer = 'adam', loss = 'sparse_categorical_crossentropy', metrics=['accuracy',])"
      ],
      "execution_count": 129,
      "outputs": []
    },
    {
      "cell_type": "code",
      "metadata": {
        "colab": {
          "base_uri": "https://localhost:8080/"
        },
        "id": "PXRPAcI2MfOY",
        "outputId": "782e6f9f-da51-4c23-8bbd-399a2e69fd0b"
      },
      "source": [
        "model.fit(train_images, train_labels, batch_size=32, epochs=20)"
      ],
      "execution_count": 130,
      "outputs": [
        {
          "output_type": "stream",
          "text": [
            "Epoch 1/20\n",
            "1875/1875 [==============================] - 12s 6ms/step - loss: 2.1771 - accuracy: 0.6068\n",
            "Epoch 2/20\n",
            "1875/1875 [==============================] - 12s 6ms/step - loss: 0.6478 - accuracy: 0.7619\n",
            "Epoch 3/20\n",
            "1875/1875 [==============================] - 12s 6ms/step - loss: 0.5744 - accuracy: 0.7851\n",
            "Epoch 4/20\n",
            "1875/1875 [==============================] - 11s 6ms/step - loss: 0.5653 - accuracy: 0.7943\n",
            "Epoch 5/20\n",
            "1875/1875 [==============================] - 11s 6ms/step - loss: 0.5321 - accuracy: 0.8035\n",
            "Epoch 6/20\n",
            "1875/1875 [==============================] - 11s 6ms/step - loss: 0.5219 - accuracy: 0.8071\n",
            "Epoch 7/20\n",
            "1875/1875 [==============================] - 12s 6ms/step - loss: 0.5163 - accuracy: 0.8096\n",
            "Epoch 8/20\n",
            "1875/1875 [==============================] - 12s 6ms/step - loss: 0.5166 - accuracy: 0.8046\n",
            "Epoch 9/20\n",
            "1875/1875 [==============================] - 12s 6ms/step - loss: 0.5108 - accuracy: 0.8151\n",
            "Epoch 10/20\n",
            "1875/1875 [==============================] - 12s 6ms/step - loss: 0.5008 - accuracy: 0.8154\n",
            "Epoch 11/20\n",
            "1875/1875 [==============================] - 12s 6ms/step - loss: 0.5301 - accuracy: 0.7924\n",
            "Epoch 12/20\n",
            "1875/1875 [==============================] - 12s 6ms/step - loss: 0.4851 - accuracy: 0.8229\n",
            "Epoch 13/20\n",
            "1875/1875 [==============================] - 12s 7ms/step - loss: 0.4811 - accuracy: 0.8184\n",
            "Epoch 14/20\n",
            "1875/1875 [==============================] - 12s 6ms/step - loss: 0.4724 - accuracy: 0.8285\n",
            "Epoch 15/20\n",
            "1875/1875 [==============================] - 11s 6ms/step - loss: 0.4844 - accuracy: 0.8248\n",
            "Epoch 16/20\n",
            "1875/1875 [==============================] - 11s 6ms/step - loss: 0.4829 - accuracy: 0.8216\n",
            "Epoch 17/20\n",
            "1875/1875 [==============================] - 12s 6ms/step - loss: 0.4719 - accuracy: 0.8273\n",
            "Epoch 18/20\n",
            "1875/1875 [==============================] - 12s 6ms/step - loss: 0.4906 - accuracy: 0.8187\n",
            "Epoch 19/20\n",
            "1875/1875 [==============================] - 12s 6ms/step - loss: 0.4955 - accuracy: 0.8224\n",
            "Epoch 20/20\n",
            "1875/1875 [==============================] - 11s 6ms/step - loss: 0.4681 - accuracy: 0.8280\n"
          ],
          "name": "stdout"
        },
        {
          "output_type": "execute_result",
          "data": {
            "text/plain": [
              "<tensorflow.python.keras.callbacks.History at 0x7f7d9d748780>"
            ]
          },
          "metadata": {
            "tags": []
          },
          "execution_count": 130
        }
      ]
    },
    {
      "cell_type": "code",
      "metadata": {
        "colab": {
          "base_uri": "https://localhost:8080/"
        },
        "id": "1VMgqkL0Mm29",
        "outputId": "cefcf908-1caa-4d62-c1ca-b60863024226"
      },
      "source": [
        "model.evaluate(test_images, test_labels)"
      ],
      "execution_count": 131,
      "outputs": [
        {
          "output_type": "stream",
          "text": [
            "313/313 [==============================] - 1s 2ms/step - loss: 0.4715 - accuracy: 0.8505\n"
          ],
          "name": "stdout"
        },
        {
          "output_type": "execute_result",
          "data": {
            "text/plain": [
              "[0.47152432799339294, 0.8504999876022339]"
            ]
          },
          "metadata": {
            "tags": []
          },
          "execution_count": 131
        }
      ]
    }
  ]
}