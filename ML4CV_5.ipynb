{
  "nbformat": 4,
  "nbformat_minor": 0,
  "metadata": {
    "colab": {
      "name": "ML4CV_5.ipynb",
      "provenance": [],
      "authorship_tag": "ABX9TyMrbKAvU58N3fYJ2cd9zlMr",
      "include_colab_link": true
    },
    "kernelspec": {
      "name": "python3",
      "display_name": "Python 3"
    }
  },
  "cells": [
    {
      "cell_type": "markdown",
      "metadata": {
        "id": "view-in-github",
        "colab_type": "text"
      },
      "source": [
        "<a href=\"https://colab.research.google.com/github/avats-dev/ML4CV/blob/main/ML4CV_5.ipynb\" target=\"_parent\"><img src=\"https://colab.research.google.com/assets/colab-badge.svg\" alt=\"Open In Colab\"/></a>"
      ]
    },
    {
      "cell_type": "code",
      "metadata": {
        "id": "PKftPqlmFQMf"
      },
      "source": [
        "import tensorflow as tf\r\n",
        "from tensorflow.keras import *\r\n",
        "\r\n",
        "import numpy as np\r\n",
        "from matplotlib import pyplot as plt"
      ],
      "execution_count": 11,
      "outputs": []
    },
    {
      "cell_type": "code",
      "metadata": {
        "colab": {
          "base_uri": "https://localhost:8080/",
          "height": 35
        },
        "id": "cf6P5ebAFRJM",
        "outputId": "dd2e0f6e-1b8b-45cf-cefd-c757c2c5a8bd"
      },
      "source": [
        "tf.__version__"
      ],
      "execution_count": 12,
      "outputs": [
        {
          "output_type": "execute_result",
          "data": {
            "application/vnd.google.colaboratory.intrinsic+json": {
              "type": "string"
            },
            "text/plain": [
              "'2.4.1'"
            ]
          },
          "metadata": {
            "tags": []
          },
          "execution_count": 12
        }
      ]
    },
    {
      "cell_type": "code",
      "metadata": {
        "id": "ySFlnJxvFWh0"
      },
      "source": [
        "fashion_mnist = datasets.fashion_mnist\r\n",
        "(train_images,  train_labels), (test_images, test_labels) = fashion_mnist.load_data()"
      ],
      "execution_count": 13,
      "outputs": []
    },
    {
      "cell_type": "code",
      "metadata": {
        "colab": {
          "base_uri": "https://localhost:8080/"
        },
        "id": "taVWuUKFFYwj",
        "outputId": "aa5dd0d4-1c8f-4580-f261-c55543fd94a8"
      },
      "source": [
        "class_names = ['T-shirt/top', 'Trouser', 'Pullover', 'Dress', 'Coat',\r\n",
        "               'Sandal', 'Shirt', 'Sneaker', 'Bag', 'Ankle Boot']\r\n",
        "train_images.shape"
      ],
      "execution_count": 14,
      "outputs": [
        {
          "output_type": "execute_result",
          "data": {
            "text/plain": [
              "(60000, 28, 28)"
            ]
          },
          "metadata": {
            "tags": []
          },
          "execution_count": 14
        }
      ]
    },
    {
      "cell_type": "code",
      "metadata": {
        "id": "kaPWLoc4Fmyg"
      },
      "source": [
        "train_images = train_images / 255.0\r\n",
        "test_images = test_images / 255.0"
      ],
      "execution_count": 15,
      "outputs": []
    },
    {
      "cell_type": "code",
      "metadata": {
        "colab": {
          "base_uri": "https://localhost:8080/",
          "height": 282
        },
        "id": "0u87bt7pFx0n",
        "outputId": "19bbaced-33df-469e-d39e-262149012419"
      },
      "source": [
        "plt.imshow(train_images[720])"
      ],
      "execution_count": 16,
      "outputs": [
        {
          "output_type": "execute_result",
          "data": {
            "text/plain": [
              "<matplotlib.image.AxesImage at 0x7f6b603b2c50>"
            ]
          },
          "metadata": {
            "tags": []
          },
          "execution_count": 16
        },
        {
          "output_type": "display_data",
          "data": {
            "image/png": "[encoded data removed]",
            "text/plain": [
              "<Figure size 432x288 with 1 Axes>"
            ]
          },
          "metadata": {
            "tags": [],
            "needs_background": "light"
          }
        }
      ]
    },
    {
      "cell_type": "code",
      "metadata": {
        "colab": {
          "base_uri": "https://localhost:8080/"
        },
        "id": "vnHlc8WaF32L",
        "outputId": "f784a234-f06c-4827-fd75-ec56b2ec0695"
      },
      "source": [
        "np.max(train_images)"
      ],
      "execution_count": 17,
      "outputs": [
        {
          "output_type": "execute_result",
          "data": {
            "text/plain": [
              "1.0"
            ]
          },
          "metadata": {
            "tags": []
          },
          "execution_count": 17
        }
      ]
    },
    {
      "cell_type": "code",
      "metadata": {
        "colab": {
          "base_uri": "https://localhost:8080/"
        },
        "id": "BigQGuMnGbOa",
        "outputId": "64e8f3b6-f77b-45f0-b18a-d9440c1aec94"
      },
      "source": [
        "train_images.shape"
      ],
      "execution_count": 18,
      "outputs": [
        {
          "output_type": "execute_result",
          "data": {
            "text/plain": [
              "(60000, 28, 28)"
            ]
          },
          "metadata": {
            "tags": []
          },
          "execution_count": 18
        }
      ]
    },
    {
      "cell_type": "code",
      "metadata": {
        "id": "Wunvtmv-HTMD"
      },
      "source": [
        "from tensorflow import keras\r\n",
        "input1 = keras.Input((28,28))\r\n",
        "layer1 = keras.layers.Flatten()(input1)\r\n",
        "l2 = keras.layers.Dense(128, activation = 'relu')(layer1)\r\n",
        "output = keras.layers.Dense(10, activation = 'softmax')(l2)\r\n",
        "\r\n",
        "model = keras.models.Model(input1, output)\r\n",
        "\r\n"
      ],
      "execution_count": 23,
      "outputs": []
    },
    {
      "cell_type": "code",
      "metadata": {
        "colab": {
          "base_uri": "https://localhost:8080/"
        },
        "id": "I9lT4q_eIGFX",
        "outputId": "e70ef1f6-d48d-42ba-bb9d-34cea099bb6f"
      },
      "source": [
        "model.summary()"
      ],
      "execution_count": 25,
      "outputs": [
        {
          "output_type": "stream",
          "text": [
            "Model: \"model_2\"\n",
            "_________________________________________________________________\n",
            "Layer (type)                 Output Shape              Param #   \n",
            "=================================================================\n",
            "input_3 (InputLayer)         [(None, 28, 28)]          0         \n",
            "_________________________________________________________________\n",
            "flatten_2 (Flatten)          (None, 784)               0         \n",
            "_________________________________________________________________\n",
            "dense_4 (Dense)              (None, 128)               100480    \n",
            "_________________________________________________________________\n",
            "dense_5 (Dense)              (None, 10)                1290      \n",
            "=================================================================\n",
            "Total params: 101,770\n",
            "Trainable params: 101,770\n",
            "Non-trainable params: 0\n",
            "_________________________________________________________________\n"
          ],
          "name": "stdout"
        }
      ]
    },
    {
      "cell_type": "code",
      "metadata": {
        "colab": {
          "base_uri": "https://localhost:8080/"
        },
        "id": "GlMqXRyUItw8",
        "outputId": "a75d202e-d8c4-486d-9f05-d841882cd075"
      },
      "source": [
        "input2 = keras.Input((28,28,1))\r\n",
        "c1 = keras.layers.Conv2D(32, kernel_size=(3,3), strides=(1,1), padding='same',\r\n",
        "                         activation='relu', use_bias=True)(input2)\r\n",
        "p1 = keras.layers.MaxPool2D((2,2))(c1)\r\n",
        "c2 = keras.layers.Conv2D(64, kernel_size=(3,3), strides=(1,1), padding='same',\r\n",
        "                         activation='relu', use_bias=True)(p1)\r\n",
        "p2 = keras.layers.MaxPool2D((2,2))(c2)\r\n",
        "f1 = keras.layers.Flatten()(p2)\r\n",
        "d1 = keras.layers.Dense(256, activation='relu')(f1)\r\n",
        "#d2 = keras.layers.Dropout(0.2)(d1)\r\n",
        "#d3 = keras.layers.Dense(128, activation='relu')(d1)\r\n",
        "out = keras.layers.Dense(10, activation='softmax')(d1)\r\n",
        "\r\n",
        "modelcnn = keras.models.Model(input2, out)\r\n",
        "modelcnn.summary()"
      ],
      "execution_count": 45,
      "outputs": [
        {
          "output_type": "stream",
          "text": [
            "Model: \"model_15\"\n",
            "_________________________________________________________________\n",
            "Layer (type)                 Output Shape              Param #   \n",
            "=================================================================\n",
            "input_20 (InputLayer)        [(None, 28, 28, 1)]       0         \n",
            "_________________________________________________________________\n",
            "conv2d_25 (Conv2D)           (None, 28, 28, 32)        320       \n",
            "_________________________________________________________________\n",
            "max_pooling2d_21 (MaxPooling (None, 14, 14, 32)        0         \n",
            "_________________________________________________________________\n",
            "conv2d_26 (Conv2D)           (None, 14, 14, 64)        18496     \n",
            "_________________________________________________________________\n",
            "max_pooling2d_22 (MaxPooling (None, 7, 7, 64)          0         \n",
            "_________________________________________________________________\n",
            "flatten_10 (Flatten)         (None, 3136)              0         \n",
            "_________________________________________________________________\n",
            "dense_19 (Dense)             (None, 256)               803072    \n",
            "_________________________________________________________________\n",
            "dense_20 (Dense)             (None, 10)                2570      \n",
            "=================================================================\n",
            "Total params: 824,458\n",
            "Trainable params: 824,458\n",
            "Non-trainable params: 0\n",
            "_________________________________________________________________\n"
          ],
          "name": "stdout"
        }
      ]
    },
    {
      "cell_type": "code",
      "metadata": {
        "id": "aG2IlmQXKJn4"
      },
      "source": [
        "modelcnn.compile(optimizer='adam',\r\n",
        "                 loss = 'sparse_categorical_crossentropy',\r\n",
        "                 metrics=['accuracy',])"
      ],
      "execution_count": 46,
      "outputs": []
    },
    {
      "cell_type": "code",
      "metadata": {
        "colab": {
          "base_uri": "https://localhost:8080/"
        },
        "id": "cf8TkNrIQS7_",
        "outputId": "55128f9e-bca2-40eb-d257-62946c8dabc8"
      },
      "source": [
        "modelcnn.fit(train_images, train_labels, batch_size=64, epochs=5)"
      ],
      "execution_count": 47,
      "outputs": [
        {
          "output_type": "stream",
          "text": [
            "Epoch 1/5\n",
            "938/938 [==============================] - 60s 63ms/step - loss: 0.5843 - accuracy: 0.7906\n",
            "Epoch 2/5\n",
            "938/938 [==============================] - 59s 63ms/step - loss: 0.2873 - accuracy: 0.8974\n",
            "Epoch 3/5\n",
            "938/938 [==============================] - 59s 62ms/step - loss: 0.2282 - accuracy: 0.9165\n",
            "Epoch 4/5\n",
            "938/938 [==============================] - 58s 62ms/step - loss: 0.1976 - accuracy: 0.9269\n",
            "Epoch 5/5\n",
            "938/938 [==============================] - 58s 62ms/step - loss: 0.1701 - accuracy: 0.9375\n"
          ],
          "name": "stdout"
        },
        {
          "output_type": "execute_result",
          "data": {
            "text/plain": [
              "<tensorflow.python.keras.callbacks.History at 0x7f6b51eff978>"
            ]
          },
          "metadata": {
            "tags": []
          },
          "execution_count": 47
        }
      ]
    },
    {
      "cell_type": "code",
      "metadata": {
        "colab": {
          "base_uri": "https://localhost:8080/"
        },
        "id": "WatW03ANQh-G",
        "outputId": "10a6d5c2-174b-4ffe-8f0a-174cc1f7e202"
      },
      "source": [
        "modelcnn.evaluate(test_images, test_labels)"
      ],
      "execution_count": 48,
      "outputs": [
        {
          "output_type": "stream",
          "text": [
            "313/313 [==============================] - 3s 9ms/step - loss: 0.2269 - accuracy: 0.9189\n"
          ],
          "name": "stdout"
        },
        {
          "output_type": "execute_result",
          "data": {
            "text/plain": [
              "[0.22694668173789978, 0.9189000129699707]"
            ]
          },
          "metadata": {
            "tags": []
          },
          "execution_count": 48
        }
      ]
    },
    {
      "cell_type": "code",
      "metadata": {
        "id": "RdaS8yVPT2Ck"
      },
      "source": [
        ""
      ],
      "execution_count": null,
      "outputs": []
    }
  ]
}