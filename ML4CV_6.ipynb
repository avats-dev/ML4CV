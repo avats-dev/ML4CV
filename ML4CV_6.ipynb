{
  "nbformat": 4,
  "nbformat_minor": 0,
  "metadata": {
    "colab": {
      "name": "ML4CV_6.ipynb",
      "provenance": [],
      "authorship_tag": "ABX9TyNBjz6Yaj7sBKOawQHbBZ4V",
      "include_colab_link": true
    },
    "kernelspec": {
      "name": "python3",
      "display_name": "Python 3"
    },
    "accelerator": "GPU"
  },
  "cells": [
    {
      "cell_type": "markdown",
      "metadata": {
        "id": "view-in-github",
        "colab_type": "text"
      },
      "source": [
        "<a href=\"https://colab.research.google.com/github/avats-dev/ML4CV/blob/main/ML4CV_6.ipynb\" target=\"_parent\"><img src=\"https://colab.research.google.com/assets/colab-badge.svg\" alt=\"Open In Colab\"/></a>"
      ]
    },
    {
      "cell_type": "markdown",
      "metadata": {
        "id": "V9jCozCxhTVF"
      },
      "source": [
        "###Deep learning based on transfer learning for plant disease detection"
      ]
    },
    {
      "cell_type": "markdown",
      "metadata": {
        "id": "fhxoudZSibB7"
      },
      "source": [
        "VGG19 is used as base model and inception block (derived from googlenet) is used over base for this model and then a global average pooling (GAP) is used followed by softmax classifier.\r\n",
        "VGG19 is trained on imagenet dataset.\r\n",
        "\r\n",
        "This model would be trained on head layers with plant village dataset.\r\n",
        "\r\n",
        "INC-VGGN Architecture."
      ]
    },
    {
      "cell_type": "code",
      "metadata": {
        "colab": {
          "base_uri": "https://localhost:8080/"
        },
        "id": "wXVrpVmRiXmg",
        "outputId": "5fa41042-7102-4d1d-e013-3c7942076cde"
      },
      "source": [
        "from google.colab import drive\r\n",
        "drive.mount('/content/drive')"
      ],
      "execution_count": 1,
      "outputs": [
        {
          "output_type": "stream",
          "text": [
            "Mounted at /content/drive\n"
          ],
          "name": "stdout"
        }
      ]
    },
    {
      "cell_type": "code",
      "metadata": {
        "colab": {
          "base_uri": "https://localhost:8080/"
        },
        "id": "0AKnSjkvl0N4",
        "outputId": "f119d728-11a5-41ee-d335-0593a124bba5"
      },
      "source": [
        "%cd /content/drive/MyDrive"
      ],
      "execution_count": 3,
      "outputs": [
        {
          "output_type": "stream",
          "text": [
            "/content/drive/MyDrive\n"
          ],
          "name": "stdout"
        }
      ]
    },
    {
      "cell_type": "code",
      "metadata": {
        "id": "5OU65Tq2ms3X"
      },
      "source": [
        "#!ls"
      ],
      "execution_count": null,
      "outputs": []
    },
    {
      "cell_type": "code",
      "metadata": {
        "id": "1ZphntnIm-cT"
      },
      "source": [
        "#!unzip dataset.zip"
      ],
      "execution_count": null,
      "outputs": []
    },
    {
      "cell_type": "code",
      "metadata": {
        "colab": {
          "base_uri": "https://localhost:8080/"
        },
        "id": "JCKAbczTnENf",
        "outputId": "11cbe2b6-c674-4c8e-e660-a71cae46c349"
      },
      "source": [
        "%cd dataset"
      ],
      "execution_count": 7,
      "outputs": [
        {
          "output_type": "stream",
          "text": [
            "/content/drive/My Drive/dataset\n"
          ],
          "name": "stdout"
        }
      ]
    },
    {
      "cell_type": "code",
      "metadata": {
        "colab": {
          "base_uri": "https://localhost:8080/"
        },
        "id": "M_SsHAJ5nYTs",
        "outputId": "09f7af21-c4d5-4a2a-9325-3972c710693a"
      },
      "source": [
        "!ls -l"
      ],
      "execution_count": 9,
      "outputs": [
        {
          "output_type": "stream",
          "text": [
            "total 12\n",
            "drwx------ 5 root root 4096 Feb  7 14:44 maize\n",
            "drwx------ 5 root root 4096 Feb  7 14:44 maize_plantvillage\n",
            "drwx------ 5 root root 4096 Feb  7 14:44 rice\n"
          ],
          "name": "stdout"
        }
      ]
    },
    {
      "cell_type": "code",
      "metadata": {
        "id": "-UYpR-HJnhvc"
      },
      "source": [
        "from keras.preprocessing.image import ImageDataGenerator\r\n",
        "datagen = ImageDataGenerator(rescale=1/255)"
      ],
      "execution_count": 10,
      "outputs": []
    },
    {
      "cell_type": "code",
      "metadata": {
        "colab": {
          "base_uri": "https://localhost:8080/"
        },
        "id": "x33lSm9LqBLL",
        "outputId": "0edff160-9fb0-47f7-8c35-b13c27926702"
      },
      "source": [
        "train_data = datagen.flow_from_directory('rice/train', target_size=(224,224),\r\n",
        "                            batch_size=10, class_mode='categorical')\r\n",
        "test_data = datagen.flow_from_directory('rice/test', target_size=(224,224),\r\n",
        "                            batch_size=10, class_mode='categorical',\r\n",
        "                            shuffle=True, seed=33)\r\n",
        "val_data = datagen.flow_from_directory('rice/val', target_size=(224,224),\r\n",
        "                            batch_size=10, class_mode='categorical',\r\n",
        "                            shuffle=True, seed=33)\r\n"
      ],
      "execution_count": 13,
      "outputs": [
        {
          "output_type": "stream",
          "text": [
            "Found 350 images belonging to 5 classes.\n",
            "Found 60 images belonging to 5 classes.\n",
            "Found 150 images belonging to 5 classes.\n"
          ],
          "name": "stdout"
        }
      ]
    },
    {
      "cell_type": "code",
      "metadata": {
        "colab": {
          "base_uri": "https://localhost:8080/"
        },
        "id": "eW6hyHmarKgG",
        "outputId": "2c0fabf7-9738-479e-d5b1-d7a1d027e1b2"
      },
      "source": [
        "import tensorflow as tf\r\n",
        "base = tf.keras.applications.VGG19(\r\n",
        "    include_top=False,\r\n",
        "    weights='imagenet',\r\n",
        "    input_shape=(224,224,3),\r\n",
        ")"
      ],
      "execution_count": 14,
      "outputs": [
        {
          "output_type": "stream",
          "text": [
            "Downloading data from https://storage.googleapis.com/tensorflow/keras-applications/vgg19/vgg19_weights_tf_dim_ordering_tf_kernels_notop.h5\n",
            "80142336/80134624 [==============================] - 0s 0us/step\n"
          ],
          "name": "stdout"
        }
      ]
    },
    {
      "cell_type": "code",
      "metadata": {
        "colab": {
          "base_uri": "https://localhost:8080/"
        },
        "id": "UzP8YI0Atiaw",
        "outputId": "bd375872-7a4f-4a28-a0bd-19dae8e3e703"
      },
      "source": [
        "base.summary()"
      ],
      "execution_count": 15,
      "outputs": [
        {
          "output_type": "stream",
          "text": [
            "Model: \"vgg19\"\n",
            "_________________________________________________________________\n",
            "Layer (type)                 Output Shape              Param #   \n",
            "=================================================================\n",
            "input_1 (InputLayer)         [(None, 224, 224, 3)]     0         \n",
            "_________________________________________________________________\n",
            "block1_conv1 (Conv2D)        (None, 224, 224, 64)      1792      \n",
            "_________________________________________________________________\n",
            "block1_conv2 (Conv2D)        (None, 224, 224, 64)      36928     \n",
            "_________________________________________________________________\n",
            "block1_pool (MaxPooling2D)   (None, 112, 112, 64)      0         \n",
            "_________________________________________________________________\n",
            "block2_conv1 (Conv2D)        (None, 112, 112, 128)     73856     \n",
            "_________________________________________________________________\n",
            "block2_conv2 (Conv2D)        (None, 112, 112, 128)     147584    \n",
            "_________________________________________________________________\n",
            "block2_pool (MaxPooling2D)   (None, 56, 56, 128)       0         \n",
            "_________________________________________________________________\n",
            "block3_conv1 (Conv2D)        (None, 56, 56, 256)       295168    \n",
            "_________________________________________________________________\n",
            "block3_conv2 (Conv2D)        (None, 56, 56, 256)       590080    \n",
            "_________________________________________________________________\n",
            "block3_conv3 (Conv2D)        (None, 56, 56, 256)       590080    \n",
            "_________________________________________________________________\n",
            "block3_conv4 (Conv2D)        (None, 56, 56, 256)       590080    \n",
            "_________________________________________________________________\n",
            "block3_pool (MaxPooling2D)   (None, 28, 28, 256)       0         \n",
            "_________________________________________________________________\n",
            "block4_conv1 (Conv2D)        (None, 28, 28, 512)       1180160   \n",
            "_________________________________________________________________\n",
            "block4_conv2 (Conv2D)        (None, 28, 28, 512)       2359808   \n",
            "_________________________________________________________________\n",
            "block4_conv3 (Conv2D)        (None, 28, 28, 512)       2359808   \n",
            "_________________________________________________________________\n",
            "block4_conv4 (Conv2D)        (None, 28, 28, 512)       2359808   \n",
            "_________________________________________________________________\n",
            "block4_pool (MaxPooling2D)   (None, 14, 14, 512)       0         \n",
            "_________________________________________________________________\n",
            "block5_conv1 (Conv2D)        (None, 14, 14, 512)       2359808   \n",
            "_________________________________________________________________\n",
            "block5_conv2 (Conv2D)        (None, 14, 14, 512)       2359808   \n",
            "_________________________________________________________________\n",
            "block5_conv3 (Conv2D)        (None, 14, 14, 512)       2359808   \n",
            "_________________________________________________________________\n",
            "block5_conv4 (Conv2D)        (None, 14, 14, 512)       2359808   \n",
            "_________________________________________________________________\n",
            "block5_pool (MaxPooling2D)   (None, 7, 7, 512)         0         \n",
            "=================================================================\n",
            "Total params: 20,024,384\n",
            "Trainable params: 20,024,384\n",
            "Non-trainable params: 0\n",
            "_________________________________________________________________\n"
          ],
          "name": "stdout"
        }
      ]
    },
    {
      "cell_type": "code",
      "metadata": {
        "colab": {
          "base_uri": "https://localhost:8080/"
        },
        "id": "6VaCHcRrtodv",
        "outputId": "5a47d000-988b-4bad-e54c-395144bbc1c5"
      },
      "source": [
        "for layer in base.layers:\r\n",
        "  layer.trainable = False\r\n",
        "\r\n",
        "base.summary()"
      ],
      "execution_count": 16,
      "outputs": [
        {
          "output_type": "stream",
          "text": [
            "Model: \"vgg19\"\n",
            "_________________________________________________________________\n",
            "Layer (type)                 Output Shape              Param #   \n",
            "=================================================================\n",
            "input_1 (InputLayer)         [(None, 224, 224, 3)]     0         \n",
            "_________________________________________________________________\n",
            "block1_conv1 (Conv2D)        (None, 224, 224, 64)      1792      \n",
            "_________________________________________________________________\n",
            "block1_conv2 (Conv2D)        (None, 224, 224, 64)      36928     \n",
            "_________________________________________________________________\n",
            "block1_pool (MaxPooling2D)   (None, 112, 112, 64)      0         \n",
            "_________________________________________________________________\n",
            "block2_conv1 (Conv2D)        (None, 112, 112, 128)     73856     \n",
            "_________________________________________________________________\n",
            "block2_conv2 (Conv2D)        (None, 112, 112, 128)     147584    \n",
            "_________________________________________________________________\n",
            "block2_pool (MaxPooling2D)   (None, 56, 56, 128)       0         \n",
            "_________________________________________________________________\n",
            "block3_conv1 (Conv2D)        (None, 56, 56, 256)       295168    \n",
            "_________________________________________________________________\n",
            "block3_conv2 (Conv2D)        (None, 56, 56, 256)       590080    \n",
            "_________________________________________________________________\n",
            "block3_conv3 (Conv2D)        (None, 56, 56, 256)       590080    \n",
            "_________________________________________________________________\n",
            "block3_conv4 (Conv2D)        (None, 56, 56, 256)       590080    \n",
            "_________________________________________________________________\n",
            "block3_pool (MaxPooling2D)   (None, 28, 28, 256)       0         \n",
            "_________________________________________________________________\n",
            "block4_conv1 (Conv2D)        (None, 28, 28, 512)       1180160   \n",
            "_________________________________________________________________\n",
            "block4_conv2 (Conv2D)        (None, 28, 28, 512)       2359808   \n",
            "_________________________________________________________________\n",
            "block4_conv3 (Conv2D)        (None, 28, 28, 512)       2359808   \n",
            "_________________________________________________________________\n",
            "block4_conv4 (Conv2D)        (None, 28, 28, 512)       2359808   \n",
            "_________________________________________________________________\n",
            "block4_pool (MaxPooling2D)   (None, 14, 14, 512)       0         \n",
            "_________________________________________________________________\n",
            "block5_conv1 (Conv2D)        (None, 14, 14, 512)       2359808   \n",
            "_________________________________________________________________\n",
            "block5_conv2 (Conv2D)        (None, 14, 14, 512)       2359808   \n",
            "_________________________________________________________________\n",
            "block5_conv3 (Conv2D)        (None, 14, 14, 512)       2359808   \n",
            "_________________________________________________________________\n",
            "block5_conv4 (Conv2D)        (None, 14, 14, 512)       2359808   \n",
            "_________________________________________________________________\n",
            "block5_pool (MaxPooling2D)   (None, 7, 7, 512)         0         \n",
            "=================================================================\n",
            "Total params: 20,024,384\n",
            "Trainable params: 0\n",
            "Non-trainable params: 20,024,384\n",
            "_________________________________________________________________\n"
          ],
          "name": "stdout"
        }
      ]
    },
    {
      "cell_type": "code",
      "metadata": {
        "id": "siSxCfbIt_UK"
      },
      "source": [
        "from keras.layers import Activation\r\n",
        "from keras.utils.generic_utils import get_custom_objects\r\n",
        "from keras import backend as k\r\n",
        "\r\n",
        "def swish(x):\r\n",
        "  return (k.sigmoid(x)*x)\r\n",
        "\r\n",
        "get_custom_objects().update({'swish': Activation(swish)})"
      ],
      "execution_count": 18,
      "outputs": []
    },
    {
      "cell_type": "code",
      "metadata": {
        "id": "yGmdic8nvJaG"
      },
      "source": [
        "from keras.layers import Conv2D, BatchNormalization, Lambda\r\n",
        "\r\n",
        "def conv_bn(x, nb_filters, kernel_size, padding, strides):\r\n",
        "  x = Conv2D(nb_filters, kernel_size, padding=padding,\r\n",
        "             strides=strides)(x)\r\n",
        "  x = Lambda(swish)(x)\r\n",
        "  x = BatchNormalization(axis=3)(x)\r\n",
        "  return x"
      ],
      "execution_count": 25,
      "outputs": []
    },
    {
      "cell_type": "code",
      "metadata": {
        "id": "NCtOF1-vwDcW"
      },
      "source": [
        "from keras.layers import MaxPooling2D, concatenate\r\n",
        "\r\n",
        "def inception(x, nb_filters):\r\n",
        "  branch1 = conv_bn(x, nb_filters, (1,1), padding='same',\r\n",
        "                    strides=(1,1))\r\n",
        "  branch1_2 = conv_bn(branch1, nb_filters, (3,3), padding='same',\r\n",
        "                    strides=(1,1))\r\n",
        "  branch1_3 = conv_bn(branch1_2, nb_filters, (3,3), padding='same',\r\n",
        "                    strides=(1,1))\r\n",
        "  \r\n",
        "  branch2 = conv_bn(x, nb_filters, (1,1), padding='same',\r\n",
        "                    strides=(1,1))\r\n",
        "  branch2_1 = conv_bn(branch2, nb_filters, (3,3), padding='same',\r\n",
        "                    strides=(1,1))\r\n",
        "  \r\n",
        "  branch3 = MaxPooling2D(pool_size=(3,3), padding='same', strides=(1,1))(x)\r\n",
        "  branch3_1 = conv_bn(branch3, nb_filters, (1,1), padding='same',\r\n",
        "                    strides=(1,1))\r\n",
        "  \r\n",
        "  branch4 = conv_bn(x, nb_filters, (1,1), padding='same',\r\n",
        "                    strides=(1,1))\r\n",
        "  \r\n",
        "  res = concatenate([branch1_2, branch2_1, branch3_1, branch4],\r\n",
        "              axis=3)\r\n",
        "\r\n",
        "  return res\r\n",
        "  \r\n",
        "  "
      ],
      "execution_count": 30,
      "outputs": []
    },
    {
      "cell_type": "code",
      "metadata": {
        "colab": {
          "base_uri": "https://localhost:8080/"
        },
        "id": "-HW1DWxCy-CX",
        "outputId": "729e42de-288b-4570-81dd-9e973e504e5b"
      },
      "source": [
        "from keras.layers import GlobalAveragePooling2D, Dense\r\n",
        "\r\n",
        "base_out = base.layers[-6].output\r\n",
        "base_out = conv_bn(base_out, 512, (3,3), padding='same',\r\n",
        "                    strides=(1,1))\r\n",
        "base_out = MaxPooling2D(pool_size=(2,2), strides=(1,1),\r\n",
        "                        padding='same')(base_out)\r\n",
        "\r\n",
        "out = inception(base_out, 512)\r\n",
        "out = inception(out, 512)\r\n",
        "\r\n",
        "out = GlobalAveragePooling2D()(out)\r\n",
        "\r\n",
        "output = Dense(5, activation='softmax')(out)\r\n",
        "\r\n",
        "\r\n",
        "from keras.models import Model\r\n",
        "vggmodel = Model(inputs = base.input, outputs=output)\r\n",
        "\r\n",
        "vggmodel.summary()\r\n"
      ],
      "execution_count": 31,
      "outputs": [
        {
          "output_type": "stream",
          "text": [
            "Model: \"model\"\n",
            "__________________________________________________________________________________________________\n",
            "Layer (type)                    Output Shape         Param #     Connected to                     \n",
            "==================================================================================================\n",
            "input_1 (InputLayer)            [(None, 224, 224, 3) 0                                            \n",
            "__________________________________________________________________________________________________\n",
            "block1_conv1 (Conv2D)           (None, 224, 224, 64) 1792        input_1[0][0]                    \n",
            "__________________________________________________________________________________________________\n",
            "block1_conv2 (Conv2D)           (None, 224, 224, 64) 36928       block1_conv1[0][0]               \n",
            "__________________________________________________________________________________________________\n",
            "block1_pool (MaxPooling2D)      (None, 112, 112, 64) 0           block1_conv2[0][0]               \n",
            "__________________________________________________________________________________________________\n",
            "block2_conv1 (Conv2D)           (None, 112, 112, 128 73856       block1_pool[0][0]                \n",
            "__________________________________________________________________________________________________\n",
            "block2_conv2 (Conv2D)           (None, 112, 112, 128 147584      block2_conv1[0][0]               \n",
            "__________________________________________________________________________________________________\n",
            "block2_pool (MaxPooling2D)      (None, 56, 56, 128)  0           block2_conv2[0][0]               \n",
            "__________________________________________________________________________________________________\n",
            "block3_conv1 (Conv2D)           (None, 56, 56, 256)  295168      block2_pool[0][0]                \n",
            "__________________________________________________________________________________________________\n",
            "block3_conv2 (Conv2D)           (None, 56, 56, 256)  590080      block3_conv1[0][0]               \n",
            "__________________________________________________________________________________________________\n",
            "block3_conv3 (Conv2D)           (None, 56, 56, 256)  590080      block3_conv2[0][0]               \n",
            "__________________________________________________________________________________________________\n",
            "block3_conv4 (Conv2D)           (None, 56, 56, 256)  590080      block3_conv3[0][0]               \n",
            "__________________________________________________________________________________________________\n",
            "block3_pool (MaxPooling2D)      (None, 28, 28, 256)  0           block3_conv4[0][0]               \n",
            "__________________________________________________________________________________________________\n",
            "block4_conv1 (Conv2D)           (None, 28, 28, 512)  1180160     block3_pool[0][0]                \n",
            "__________________________________________________________________________________________________\n",
            "block4_conv2 (Conv2D)           (None, 28, 28, 512)  2359808     block4_conv1[0][0]               \n",
            "__________________________________________________________________________________________________\n",
            "block4_conv3 (Conv2D)           (None, 28, 28, 512)  2359808     block4_conv2[0][0]               \n",
            "__________________________________________________________________________________________________\n",
            "block4_conv4 (Conv2D)           (None, 28, 28, 512)  2359808     block4_conv3[0][0]               \n",
            "__________________________________________________________________________________________________\n",
            "block4_pool (MaxPooling2D)      (None, 14, 14, 512)  0           block4_conv4[0][0]               \n",
            "__________________________________________________________________________________________________\n",
            "conv2d_5 (Conv2D)               (None, 14, 14, 512)  2359808     block4_pool[0][0]                \n",
            "__________________________________________________________________________________________________\n",
            "lambda_4 (Lambda)               (None, 14, 14, 512)  0           conv2d_5[0][0]                   \n",
            "__________________________________________________________________________________________________\n",
            "batch_normalization_4 (BatchNor (None, 14, 14, 512)  2048        lambda_4[0][0]                   \n",
            "__________________________________________________________________________________________________\n",
            "max_pooling2d_2 (MaxPooling2D)  (None, 14, 14, 512)  0           batch_normalization_4[0][0]      \n",
            "__________________________________________________________________________________________________\n",
            "conv2d_6 (Conv2D)               (None, 14, 14, 512)  262656      max_pooling2d_2[0][0]            \n",
            "__________________________________________________________________________________________________\n",
            "conv2d_9 (Conv2D)               (None, 14, 14, 512)  262656      max_pooling2d_2[0][0]            \n",
            "__________________________________________________________________________________________________\n",
            "lambda_5 (Lambda)               (None, 14, 14, 512)  0           conv2d_6[0][0]                   \n",
            "__________________________________________________________________________________________________\n",
            "lambda_8 (Lambda)               (None, 14, 14, 512)  0           conv2d_9[0][0]                   \n",
            "__________________________________________________________________________________________________\n",
            "batch_normalization_5 (BatchNor (None, 14, 14, 512)  2048        lambda_5[0][0]                   \n",
            "__________________________________________________________________________________________________\n",
            "batch_normalization_8 (BatchNor (None, 14, 14, 512)  2048        lambda_8[0][0]                   \n",
            "__________________________________________________________________________________________________\n",
            "max_pooling2d_3 (MaxPooling2D)  (None, 14, 14, 512)  0           max_pooling2d_2[0][0]            \n",
            "__________________________________________________________________________________________________\n",
            "conv2d_7 (Conv2D)               (None, 14, 14, 512)  2359808     batch_normalization_5[0][0]      \n",
            "__________________________________________________________________________________________________\n",
            "conv2d_10 (Conv2D)              (None, 14, 14, 512)  2359808     batch_normalization_8[0][0]      \n",
            "__________________________________________________________________________________________________\n",
            "conv2d_11 (Conv2D)              (None, 14, 14, 512)  262656      max_pooling2d_3[0][0]            \n",
            "__________________________________________________________________________________________________\n",
            "conv2d_12 (Conv2D)              (None, 14, 14, 512)  262656      max_pooling2d_2[0][0]            \n",
            "__________________________________________________________________________________________________\n",
            "lambda_6 (Lambda)               (None, 14, 14, 512)  0           conv2d_7[0][0]                   \n",
            "__________________________________________________________________________________________________\n",
            "lambda_9 (Lambda)               (None, 14, 14, 512)  0           conv2d_10[0][0]                  \n",
            "__________________________________________________________________________________________________\n",
            "lambda_10 (Lambda)              (None, 14, 14, 512)  0           conv2d_11[0][0]                  \n",
            "__________________________________________________________________________________________________\n",
            "lambda_11 (Lambda)              (None, 14, 14, 512)  0           conv2d_12[0][0]                  \n",
            "__________________________________________________________________________________________________\n",
            "batch_normalization_6 (BatchNor (None, 14, 14, 512)  2048        lambda_6[0][0]                   \n",
            "__________________________________________________________________________________________________\n",
            "batch_normalization_9 (BatchNor (None, 14, 14, 512)  2048        lambda_9[0][0]                   \n",
            "__________________________________________________________________________________________________\n",
            "batch_normalization_10 (BatchNo (None, 14, 14, 512)  2048        lambda_10[0][0]                  \n",
            "__________________________________________________________________________________________________\n",
            "batch_normalization_11 (BatchNo (None, 14, 14, 512)  2048        lambda_11[0][0]                  \n",
            "__________________________________________________________________________________________________\n",
            "concatenate (Concatenate)       (None, 14, 14, 2048) 0           batch_normalization_6[0][0]      \n",
            "                                                                 batch_normalization_9[0][0]      \n",
            "                                                                 batch_normalization_10[0][0]     \n",
            "                                                                 batch_normalization_11[0][0]     \n",
            "__________________________________________________________________________________________________\n",
            "conv2d_13 (Conv2D)              (None, 14, 14, 512)  1049088     concatenate[0][0]                \n",
            "__________________________________________________________________________________________________\n",
            "conv2d_16 (Conv2D)              (None, 14, 14, 512)  1049088     concatenate[0][0]                \n",
            "__________________________________________________________________________________________________\n",
            "lambda_12 (Lambda)              (None, 14, 14, 512)  0           conv2d_13[0][0]                  \n",
            "__________________________________________________________________________________________________\n",
            "lambda_15 (Lambda)              (None, 14, 14, 512)  0           conv2d_16[0][0]                  \n",
            "__________________________________________________________________________________________________\n",
            "batch_normalization_12 (BatchNo (None, 14, 14, 512)  2048        lambda_12[0][0]                  \n",
            "__________________________________________________________________________________________________\n",
            "batch_normalization_15 (BatchNo (None, 14, 14, 512)  2048        lambda_15[0][0]                  \n",
            "__________________________________________________________________________________________________\n",
            "max_pooling2d_4 (MaxPooling2D)  (None, 14, 14, 2048) 0           concatenate[0][0]                \n",
            "__________________________________________________________________________________________________\n",
            "conv2d_14 (Conv2D)              (None, 14, 14, 512)  2359808     batch_normalization_12[0][0]     \n",
            "__________________________________________________________________________________________________\n",
            "conv2d_17 (Conv2D)              (None, 14, 14, 512)  2359808     batch_normalization_15[0][0]     \n",
            "__________________________________________________________________________________________________\n",
            "conv2d_18 (Conv2D)              (None, 14, 14, 512)  1049088     max_pooling2d_4[0][0]            \n",
            "__________________________________________________________________________________________________\n",
            "conv2d_19 (Conv2D)              (None, 14, 14, 512)  1049088     concatenate[0][0]                \n",
            "__________________________________________________________________________________________________\n",
            "lambda_13 (Lambda)              (None, 14, 14, 512)  0           conv2d_14[0][0]                  \n",
            "__________________________________________________________________________________________________\n",
            "lambda_16 (Lambda)              (None, 14, 14, 512)  0           conv2d_17[0][0]                  \n",
            "__________________________________________________________________________________________________\n",
            "lambda_17 (Lambda)              (None, 14, 14, 512)  0           conv2d_18[0][0]                  \n",
            "__________________________________________________________________________________________________\n",
            "lambda_18 (Lambda)              (None, 14, 14, 512)  0           conv2d_19[0][0]                  \n",
            "__________________________________________________________________________________________________\n",
            "batch_normalization_13 (BatchNo (None, 14, 14, 512)  2048        lambda_13[0][0]                  \n",
            "__________________________________________________________________________________________________\n",
            "batch_normalization_16 (BatchNo (None, 14, 14, 512)  2048        lambda_16[0][0]                  \n",
            "__________________________________________________________________________________________________\n",
            "batch_normalization_17 (BatchNo (None, 14, 14, 512)  2048        lambda_17[0][0]                  \n",
            "__________________________________________________________________________________________________\n",
            "batch_normalization_18 (BatchNo (None, 14, 14, 512)  2048        lambda_18[0][0]                  \n",
            "__________________________________________________________________________________________________\n",
            "concatenate_1 (Concatenate)     (None, 14, 14, 2048) 0           batch_normalization_13[0][0]     \n",
            "                                                                 batch_normalization_16[0][0]     \n",
            "                                                                 batch_normalization_17[0][0]     \n",
            "                                                                 batch_normalization_18[0][0]     \n",
            "__________________________________________________________________________________________________\n",
            "global_average_pooling2d (Globa (None, 2048)         0           concatenate_1[0][0]              \n",
            "__________________________________________________________________________________________________\n",
            "dense (Dense)                   (None, 5)            10245       global_average_pooling2d[0][0]   \n",
            "==================================================================================================\n",
            "Total params: 27,668,037\n",
            "Trainable params: 17,069,573\n",
            "Non-trainable params: 10,598,464\n",
            "__________________________________________________________________________________________________\n"
          ],
          "name": "stdout"
        }
      ]
    },
    {
      "cell_type": "code",
      "metadata": {
        "id": "IbEQ33x81A3U"
      },
      "source": [
        "from keras.optimizers import SGD\r\n",
        "\r\n",
        "learning_rate = 0.0001\r\n",
        "decay = 1e-6\r\n",
        "momentum = 0.8\r\n",
        "nest = True\r\n",
        "\r\n",
        "sgd = SGD(lr=learning_rate, decay=decay, momentum=momentum,\r\n",
        "    nesterov=nest)\r\n",
        "\r\n",
        "vggmodel.compile(\r\n",
        "    loss='categorical_crossentropy',\r\n",
        "    optimizer=sgd,\r\n",
        "    metrics=['accuracy']\r\n",
        ")\r\n",
        "\r\n"
      ],
      "execution_count": 32,
      "outputs": []
    },
    {
      "cell_type": "code",
      "metadata": {
        "colab": {
          "base_uri": "https://localhost:8080/"
        },
        "id": "_PvohtM82Agb",
        "outputId": "fc05a5e1-0554-413d-f92b-fb93f229ed3f"
      },
      "source": [
        "history = vggmodel.fit(train_data, epochs=30, \r\n",
        "                       validation_data=val_data, verbose=1)"
      ],
      "execution_count": 33,
      "outputs": [
        {
          "output_type": "stream",
          "text": [
            "Epoch 1/30\n",
            "35/35 [==============================] - 15s 162ms/step - loss: 1.5594 - accuracy: 0.3262 - val_loss: 1.6859 - val_accuracy: 0.4533\n",
            "Epoch 2/30\n",
            "35/35 [==============================] - 5s 152ms/step - loss: 1.1866 - accuracy: 0.6160 - val_loss: 1.4210 - val_accuracy: 0.5600\n",
            "Epoch 3/30\n",
            "35/35 [==============================] - 5s 153ms/step - loss: 0.9858 - accuracy: 0.7103 - val_loss: 1.2216 - val_accuracy: 0.5867\n",
            "Epoch 4/30\n",
            "35/35 [==============================] - 5s 155ms/step - loss: 0.9030 - accuracy: 0.7074 - val_loss: 1.0570 - val_accuracy: 0.6400\n",
            "Epoch 5/30\n",
            "35/35 [==============================] - 5s 157ms/step - loss: 0.7640 - accuracy: 0.8168 - val_loss: 0.9227 - val_accuracy: 0.7467\n",
            "Epoch 6/30\n",
            "35/35 [==============================] - 6s 158ms/step - loss: 0.6983 - accuracy: 0.8053 - val_loss: 0.8164 - val_accuracy: 0.7933\n",
            "Epoch 7/30\n",
            "35/35 [==============================] - 6s 158ms/step - loss: 0.6455 - accuracy: 0.8769 - val_loss: 0.7320 - val_accuracy: 0.7933\n",
            "Epoch 8/30\n",
            "35/35 [==============================] - 5s 156ms/step - loss: 0.5820 - accuracy: 0.8773 - val_loss: 0.6569 - val_accuracy: 0.8133\n",
            "Epoch 9/30\n",
            "35/35 [==============================] - 5s 155ms/step - loss: 0.5699 - accuracy: 0.9082 - val_loss: 0.6003 - val_accuracy: 0.8333\n",
            "Epoch 10/30\n",
            "35/35 [==============================] - 5s 154ms/step - loss: 0.5062 - accuracy: 0.9025 - val_loss: 0.5530 - val_accuracy: 0.8600\n",
            "Epoch 11/30\n",
            "35/35 [==============================] - 5s 153ms/step - loss: 0.4876 - accuracy: 0.9168 - val_loss: 0.5134 - val_accuracy: 0.8667\n",
            "Epoch 12/30\n",
            "35/35 [==============================] - 5s 152ms/step - loss: 0.4410 - accuracy: 0.9410 - val_loss: 0.4795 - val_accuracy: 0.8733\n",
            "Epoch 13/30\n",
            "35/35 [==============================] - 5s 152ms/step - loss: 0.3981 - accuracy: 0.9234 - val_loss: 0.4473 - val_accuracy: 0.8867\n",
            "Epoch 14/30\n",
            "35/35 [==============================] - 5s 152ms/step - loss: 0.3945 - accuracy: 0.9378 - val_loss: 0.4220 - val_accuracy: 0.8933\n",
            "Epoch 15/30\n",
            "35/35 [==============================] - 5s 152ms/step - loss: 0.3493 - accuracy: 0.9588 - val_loss: 0.4038 - val_accuracy: 0.8933\n",
            "Epoch 16/30\n",
            "35/35 [==============================] - 5s 152ms/step - loss: 0.2828 - accuracy: 0.9698 - val_loss: 0.3864 - val_accuracy: 0.9067\n",
            "Epoch 17/30\n",
            "35/35 [==============================] - 5s 151ms/step - loss: 0.3288 - accuracy: 0.9590 - val_loss: 0.3704 - val_accuracy: 0.9133\n",
            "Epoch 18/30\n",
            "35/35 [==============================] - 5s 152ms/step - loss: 0.3039 - accuracy: 0.9676 - val_loss: 0.3508 - val_accuracy: 0.9200\n",
            "Epoch 19/30\n",
            "35/35 [==============================] - 5s 153ms/step - loss: 0.3328 - accuracy: 0.9507 - val_loss: 0.3350 - val_accuracy: 0.9200\n",
            "Epoch 20/30\n",
            "35/35 [==============================] - 5s 153ms/step - loss: 0.3088 - accuracy: 0.9605 - val_loss: 0.3198 - val_accuracy: 0.9267\n",
            "Epoch 21/30\n",
            "35/35 [==============================] - 5s 154ms/step - loss: 0.2352 - accuracy: 0.9660 - val_loss: 0.3074 - val_accuracy: 0.9267\n",
            "Epoch 22/30\n",
            "35/35 [==============================] - 5s 154ms/step - loss: 0.2304 - accuracy: 0.9628 - val_loss: 0.2976 - val_accuracy: 0.9267\n",
            "Epoch 23/30\n",
            "35/35 [==============================] - 5s 154ms/step - loss: 0.2191 - accuracy: 0.9610 - val_loss: 0.2874 - val_accuracy: 0.9267\n",
            "Epoch 24/30\n",
            "35/35 [==============================] - 5s 153ms/step - loss: 0.2138 - accuracy: 0.9809 - val_loss: 0.2801 - val_accuracy: 0.9267\n",
            "Epoch 25/30\n",
            "35/35 [==============================] - 5s 154ms/step - loss: 0.2140 - accuracy: 0.9787 - val_loss: 0.2713 - val_accuracy: 0.9267\n",
            "Epoch 26/30\n",
            "35/35 [==============================] - 5s 154ms/step - loss: 0.2211 - accuracy: 0.9788 - val_loss: 0.2637 - val_accuracy: 0.9267\n",
            "Epoch 27/30\n",
            "35/35 [==============================] - 5s 153ms/step - loss: 0.1991 - accuracy: 0.9698 - val_loss: 0.2539 - val_accuracy: 0.9333\n",
            "Epoch 28/30\n",
            "35/35 [==============================] - 5s 156ms/step - loss: 0.2108 - accuracy: 0.9889 - val_loss: 0.2506 - val_accuracy: 0.9267\n",
            "Epoch 29/30\n",
            "35/35 [==============================] - 5s 152ms/step - loss: 0.1740 - accuracy: 0.9663 - val_loss: 0.2440 - val_accuracy: 0.9267\n",
            "Epoch 30/30\n",
            "35/35 [==============================] - 5s 152ms/step - loss: 0.1722 - accuracy: 0.9932 - val_loss: 0.2342 - val_accuracy: 0.9333\n"
          ],
          "name": "stdout"
        }
      ]
    },
    {
      "cell_type": "code",
      "metadata": {
        "colab": {
          "base_uri": "https://localhost:8080/"
        },
        "id": "CWNJxMFN2eyo",
        "outputId": "5ec48b03-5702-4741-ec49-6edebbc41512"
      },
      "source": [
        "vggmodel.evaluate(test_data, verbose=1)"
      ],
      "execution_count": 34,
      "outputs": [
        {
          "output_type": "stream",
          "text": [
            "6/6 [==============================] - 1s 88ms/step - loss: 0.3323 - accuracy: 0.9000\n"
          ],
          "name": "stdout"
        },
        {
          "output_type": "execute_result",
          "data": {
            "text/plain": [
              "[0.3323075473308563, 0.8999999761581421]"
            ]
          },
          "metadata": {
            "tags": []
          },
          "execution_count": 34
        }
      ]
    },
    {
      "cell_type": "code",
      "metadata": {
        "id": "hKof8wcQ3LPG"
      },
      "source": [
        ""
      ],
      "execution_count": null,
      "outputs": []
    }
  ]
}